{
 "cells": [
  {
   "cell_type": "code",
   "execution_count": 1,
   "id": "25df2bab-8148-43f0-ad3f-1294bff54dbf",
   "metadata": {},
   "outputs": [],
   "source": [
    "import numpy as np\n",
    "import pandas as pd\n",
    "import tensorflow as tf\n",
    "import sklearn as sk\n",
    "import matplotlib as plt"
   ]
  },
  {
   "cell_type": "code",
   "execution_count": 2,
   "id": "c81e3ff7-3959-410b-96b4-2705c696dae3",
   "metadata": {},
   "outputs": [
    {
     "name": "stdout",
     "output_type": "stream",
     "text": [
      "numpy: 1.24.3\n",
      "pandas: 2.0.3\n",
      "tensorflow: 2.13.0\n",
      "sklearn: 1.3.0\n",
      "matplotlib: 3.7.2\n"
     ]
    }
   ],
   "source": [
    "print('numpy: {}'.format(np.__version__))\n",
    "print('pandas: {}'.format(pd.__version__))\n",
    "print('tensorflow: {}'.format(tf.__version__))\n",
    "print('sklearn: {}'.format(sk.__version__))\n",
    "print('matplotlib: {}'.format(plt.__version__))"
   ]
  }
 ],
 "metadata": {
  "kernelspec": {
   "display_name": "Python 3 (ipykernel)",
   "language": "python",
   "name": "python3"
  },
  "language_info": {
   "codemirror_mode": {
    "name": "ipython",
    "version": 3
   },
   "file_extension": ".py",
   "mimetype": "text/x-python",
   "name": "python",
   "nbconvert_exporter": "python",
   "pygments_lexer": "ipython3",
   "version": "3.11.4"
  }
 },
 "nbformat": 4,
 "nbformat_minor": 5
}
